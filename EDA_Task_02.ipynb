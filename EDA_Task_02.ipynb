{
  "cells": [
    {
      "cell_type": "markdown",
      "metadata": {
        "id": "view-in-github",
        "colab_type": "text"
      },
      "source": [
        "<a href=\"https://colab.research.google.com/github/Yashfa54/EDA-AICP-Internship/blob/main/EDA_Task_02.ipynb\" target=\"_parent\"><img src=\"https://colab.research.google.com/assets/colab-badge.svg\" alt=\"Open In Colab\"/></a>"
      ]
    },
    {
      "cell_type": "markdown",
      "metadata": {
        "id": "qv9NoZuVBXPn"
      },
      "source": [
        "**Import pandas:**"
      ]
    },
    {
      "cell_type": "code",
      "execution_count": null,
      "metadata": {
        "id": "QwR5tjgiDWYY"
      },
      "outputs": [],
      "source": [
        "import pandas as pd"
      ]
    },
    {
      "cell_type": "markdown",
      "metadata": {
        "id": "6OL-lUs8BZO3"
      },
      "source": [
        "**Write pandas series code to get the output without using dictionary:**"
      ]
    },
    {
      "cell_type": "code",
      "execution_count": null,
      "metadata": {
        "colab": {
          "base_uri": "https://localhost:8080/"
        },
        "id": "VFTNYhiRBZs9",
        "outputId": "dadc020e-35b4-4ce6-9bb4-b11aef3ede10"
      },
      "outputs": [
        {
          "output_type": "stream",
          "name": "stdout",
          "text": [
            "a    1\n",
            "x    4\n",
            "c    9\n",
            "2    6\n",
            "e    7\n",
            "dtype: int64\n"
          ]
        }
      ],
      "source": [
        "index = ['a','x', 'c','2','e']\n",
        "value = [1, 4, 9, 6, 7]\n",
        "\n",
        "series= pd.Series(value,index,dtype = 'int64')\n",
        "print(series)"
      ]
    },
    {
      "cell_type": "markdown",
      "metadata": {
        "id": "X3sBB5ZsBajL"
      },
      "source": [
        "**Write pandas series code to get the output using dictionary:**"
      ]
    },
    {
      "cell_type": "code",
      "execution_count": null,
      "metadata": {
        "colab": {
          "base_uri": "https://localhost:8080/"
        },
        "id": "E7KS_z14BbAh",
        "outputId": "d339d6e2-9fd0-4cc2-a1d6-24b08e5d6c62"
      },
      "outputs": [
        {
          "output_type": "stream",
          "name": "stdout",
          "text": [
            "Pandas Series:\n",
            "  Bilal     42\n",
            "Ayesha    38\n",
            "Hadia     39\n",
            "dtype: int64\n"
          ]
        }
      ],
      "source": [
        "data = {'Bilal': 42 ,'Ayesha': 38 , 'Hadia': 39}\n",
        "dtype = 'int64'\n",
        "\n",
        "series = pd.Series(data,dtype=dtype)\n",
        "print(\"Pandas Series:\\n \", series)"
      ]
    },
    {
      "cell_type": "markdown",
      "metadata": {
        "id": "-r4KtOSyBbxW"
      },
      "source": [
        "**Write pandas dataframe to get the output using python dictionary**"
      ]
    },
    {
      "cell_type": "code",
      "execution_count": null,
      "metadata": {
        "id": "5dpEVxKfBcHD",
        "colab": {
          "base_uri": "https://localhost:8080/"
        },
        "outputId": "74e8e5c7-1f67-49d5-eacf-6a5b5ebb6259"
      },
      "outputs": [
        {
          "output_type": "stream",
          "name": "stdout",
          "text": [
            "        day  temperature  windspeed  event\n",
            "0  1/1/2017           32          6   Rain\n",
            "1  1/2/2017           35          7  Sunny\n",
            "2  1/3/2017           28          2   Snow\n",
            "3  1/4/2017           24          7   Snow\n",
            "4  1/5/2017           32          4   Rain\n",
            "5  1/6/2017           31          2  Sunny\n"
          ]
        }
      ],
      "source": [
        "# Create a Python dictionary with data\n",
        "data = {\n",
        "    'day': ['1/1/2017', '1/2/2017', '1/3/2017', '1/4/2017', '1/5/2017', '1/6/2017'],\n",
        "    'temperature': [32, 35, 28, 24, 32, 31],\n",
        "    'windspeed': [6, 7, 2, 7, 4, 2],\n",
        "    'event': ['Rain', 'Sunny', 'Snow', 'Snow', 'Rain', 'Sunny'],\n",
        "}\n",
        "\n",
        "# Create a Pandas DataFrame with custom index\n",
        "df = pd.DataFrame(data)\n",
        "print(df)\n"
      ]
    },
    {
      "cell_type": "markdown",
      "metadata": {
        "id": "rLDHZCJKBcd4"
      },
      "source": [
        "**In extension to above question, replace index by ['a','b','c','d','e','f']**"
      ]
    },
    {
      "cell_type": "code",
      "execution_count": null,
      "metadata": {
        "id": "TMss7y_YBc0X",
        "colab": {
          "base_uri": "https://localhost:8080/"
        },
        "outputId": "c18fb2e9-6a92-4a5e-f653-433c7cbe2761"
      },
      "outputs": [
        {
          "output_type": "stream",
          "name": "stdout",
          "text": [
            "        day  temperature  windspeed  event\n",
            "a  1/1/2017           32          6   Rain\n",
            "b  1/2/2017           35          7  Sunny\n",
            "c  1/3/2017           28          2   Snow\n",
            "d  1/4/2017           24          7   Snow\n",
            "e  1/5/2017           32          4   Rain\n",
            "f  1/6/2017           31          2  Sunny\n"
          ]
        }
      ],
      "source": [
        "# Define custom index labels\n",
        "index_labels = ['a', 'b', 'c', 'd', 'e','f']\n",
        "df= pd.DataFrame(data, index=index_labels)\n",
        "print(df)"
      ]
    },
    {
      "cell_type": "markdown",
      "metadata": {
        "id": "DxSVffLfBdJJ"
      },
      "source": [
        "**In extension to Q.3, calculate mean, maximum and minimum for label “temperature”**"
      ]
    },
    {
      "cell_type": "code",
      "execution_count": null,
      "metadata": {
        "id": "KPUOufVYBddn",
        "colab": {
          "base_uri": "https://localhost:8080/"
        },
        "outputId": "20c44dd5-2bed-41a8-d329-da2817d3fb0e"
      },
      "outputs": [
        {
          "output_type": "stream",
          "name": "stdout",
          "text": [
            "Mean temperature: 30.333333333333332\n",
            "Maximum temperature: 35\n",
            "Minimum temperature: 24\n"
          ]
        }
      ],
      "source": [
        "# Calculate mean, maximum and minimum for label \"Temperature\"\n",
        "temperature_mean = df['temperature'].mean()\n",
        "temperature_max = df['temperature'].max()\n",
        "temperature_min = df['temperature'].min()\n",
        "\n",
        "print(\"Mean temperature:\", temperature_mean)\n",
        "print(\"Maximum temperature:\", temperature_max)\n",
        "print(\"Minimum temperature:\", temperature_min)"
      ]
    },
    {
      "cell_type": "markdown",
      "metadata": {
        "id": "yeqlgNs5Bdyr"
      },
      "source": [
        "**Import ‘people.csv’. Import only specific columns [\"First Name\", \"Sex\", \"Email\", “Phone”, “Job Title”]. Set columns [\"Sex\", \"Job Title\"] as index columns. Skip rows [1,5]. Export the CSV as “NewPeople.csv”**"
      ]
    },
    {
      "cell_type": "code",
      "execution_count": null,
      "metadata": {
        "id": "TdfRqUFeBeG2",
        "colab": {
          "base_uri": "https://localhost:8080/"
        },
        "outputId": "dc669c6e-9bd3-4ed0-bdd1-8a08b7d7f675"
      },
      "outputs": [
        {
          "output_type": "stream",
          "name": "stdout",
          "text": [
            "NewPeople.csv has been created successfully.\n",
            "                                First Name                       Email  \\\n",
            "Sex    Job Title                                                         \n",
            "Female Phytotherapist              Phillip       bethany14@example.com   \n",
            "Male   Homeopath                  Kristine       bthompson@example.com   \n",
            "       Market researcher           Yesenia   kaitlinkaiser@example.com   \n",
            "       Waste management officer       Erin         tconner@example.org   \n",
            "Female Intelligence analyst      Katherine     conniecowan@example.com   \n",
            "...                                    ...                         ...   \n",
            "       Software engineer            Dennis         bmartin@example.org   \n",
            "       Barrister                     Steve       latasha46@example.net   \n",
            "Male   Police officer               Wesley        regina11@example.org   \n",
            "Female Broadcast journalist         Summer  alexiscantrell@example.org   \n",
            "Male   IT sales professional        Mariah       pcopeland@example.org   \n",
            "\n",
            "                                                 Phone  \n",
            "Sex    Job Title                                        \n",
            "Female Phytotherapist                214.112.6044x4913  \n",
            "Male   Homeopath                          277.609.7938  \n",
            "       Market researcher                  584.094.6111  \n",
            "       Waste management officer  001-171-649-9856x5553  \n",
            "Female Intelligence analyst      +1-773-151-6685x49162  \n",
            "...                                                ...  \n",
            "       Software engineer          001-095-524-2112x257  \n",
            "       Barrister                      001-865-478-5157  \n",
            "Male   Police officer               995-542-3004x76800  \n",
            "Female Broadcast journalist       001-273-685-6932x092  \n",
            "Male   IT sales professional       (341)594-6554x44657  \n",
            "\n",
            "[98 rows x 3 columns]\n"
          ]
        }
      ],
      "source": [
        "# Define columns to be imported\n",
        "columns_to_import = [\"First Name\", \"Sex\", \"Email\", \"Phone\", \"Job Title\"]\n",
        "\n",
        "# Define index columns\n",
        "index_columns = [\"Sex\", \"Job Title\"]\n",
        "\n",
        "# Define rows to skip\n",
        "rows_to_skip = [1, 5]\n",
        "\n",
        "# Import CSV file while skipping specified rows\n",
        "df = pd.read_csv('people.csv', usecols=columns_to_import, skiprows=rows_to_skip)\n",
        "\n",
        "# Set index columns\n",
        "df.set_index(index_columns, inplace=True)\n",
        "\n",
        "# Export DataFrame to CSV\n",
        "df.to_csv('NewPeople.csv')\n",
        "\n",
        "print(\"NewPeople.csv has been created successfully.\")\n",
        "print(df)"
      ]
    },
    {
      "cell_type": "markdown",
      "source": [
        "**Import ‘SampleWork.xlsx’. Import sheet 1. Import only first and last column from sheet 1. Skip row 2 while importing the sheet. Set row 2 as header. Export as new sheet.**"
      ],
      "metadata": {
        "id": "kcaxb5COWxR4"
      }
    },
    {
      "cell_type": "code",
      "source": [
        "# Define columns to be imported\n",
        "columns_to_import = [0, -1]\n",
        "\n",
        "# Define header row\n",
        "header_row = 1\n",
        "\n",
        "# Define rows to skip\n",
        "rows_to_skip = [1]\n",
        "\n",
        "# Import Excel sheet while skipping specified rows and selecting specific columns\n",
        "df = pd.read_excel('SampleWork.xlsx', sheet_name=0, usecols=columns_to_import, skiprows=rows_to_skip, header=header_row)\n",
        "\n",
        "# Export DataFrame to a new sheet in the same Excel file\n",
        "with pd.ExcelWriter('SampleWork.xlsx', engine='openpyxl', mode='a') as writer:\n",
        "      df.to_excel(writer, sheet_name='NewSheet', index=False)\n",
        "\n",
        "print(\"New sheet 'NewSheet' has been created successfully in 'SampleWork.xlsx'.\")\n",
        "print(df)"
      ],
      "metadata": {
        "colab": {
          "base_uri": "https://localhost:8080/"
        },
        "id": "3whzSmHOWxq6",
        "outputId": "4ef0ff9b-2ce8-4881-85cf-a498958af767"
      },
      "execution_count": null,
      "outputs": [
        {
          "output_type": "stream",
          "name": "stdout",
          "text": [
            "New sheet 'NewSheet' has been created successfully in 'SampleWork.xlsx'.\n",
            "    Bilal\n",
            "0  Sufyan\n",
            "1   Saiqa\n",
            "2   Aimen\n"
          ]
        }
      ]
    },
    {
      "cell_type": "markdown",
      "source": [
        "**Create the following dataframe as AICP_DF. Select 'Name', 'Qualification' coloumns and save to df1. Add a new column to AICP_DF “Height” with the following values: [5.1, 6.2, 5.1, 5.2,5.1]. Set column “Name” as the index column. Retrieve row with index “Hifza. Retrieve row with index 3. Drop row with index “Bilal”**"
      ],
      "metadata": {
        "id": "wn_030sbWyDB"
      }
    },
    {
      "cell_type": "code",
      "source": [
        "data = {\n",
        "    'Name': ['Sonia', 'Bilal', 'Hifza', 'Kabir', 'Jazim'],\n",
        "    'Age': [27, 24, 22, 32, 23],\n",
        "    'Qualification': ['Msc', 'MA', 'MCA', 'Phd', 'bsc'],\n",
        "    'Address': ['Lahore', 'Karachi', 'Sialkot', 'Peshawar', 'Lhr']\n",
        "}\n",
        "\n",
        "AICP_DF = pd.DataFrame(data)\n",
        "print(\"Original DataFrame AICP_DF:\")\n",
        "print(AICP_DF)\n",
        "\n",
        "# Select 'Name' and 'Qualification' columns and save to df1\n",
        "df1 = AICP_DF[['Name', 'Qualification']]\n",
        "print(\"\\nDataFrame df1:\")\n",
        "print(df1)\n",
        "\n",
        "# Add a new column \"Height\" to AICP_DF\n",
        "height_values = [5.1, 6.2, 5.1, 5.2, 5.1]\n",
        "AICP_DF['Height'] = height_values\n",
        "print(\"\\nUpdated DataFrame AICP_DF with 'Height' column:\")\n",
        "print(AICP_DF)\n",
        "\n",
        "# Set column \"Name\" as the index column\n",
        "AICP_DF.set_index('Name', inplace=True)\n",
        "print(\"\\nDataFrame AICP_DF with 'Name' as index:\")\n",
        "print(AICP_DF)\n",
        "\n",
        "# Retrieve row with index \"Hifza\"\n",
        "row_hifza = AICP_DF.loc['Hifza']\n",
        "print(\"\\nRow with index 'Hifza':\")\n",
        "print(row_hifza)\n",
        "\n",
        "# Retrieve row with index 3\n",
        "row_index_3 = AICP_DF.iloc[2]  # Index 2 corresponds to the third row (0-based indexing)\n",
        "print(\"\\nRow with index 3:\")\n",
        "print(row_index_3)\n",
        "\n",
        "# Drop row with index \"Bilal\"\n",
        "AICP_DF.drop(index='Bilal', inplace=True)\n",
        "print(\"\\nDataFrame AICP_DF after dropping row with index 'Bilal':\")\n",
        "print(AICP_DF)\n"
      ],
      "metadata": {
        "colab": {
          "base_uri": "https://localhost:8080/"
        },
        "id": "Z7LQfYIaqgpn",
        "outputId": "f11d9791-a0de-4505-b3d6-f8a043c2feda"
      },
      "execution_count": null,
      "outputs": [
        {
          "output_type": "stream",
          "name": "stdout",
          "text": [
            "Original DataFrame AICP_DF:\n",
            "    Name  Age Qualification   Address\n",
            "0  Sonia   27           Msc    Lahore\n",
            "1  Bilal   24            MA   Karachi\n",
            "2  Hifza   22           MCA   Sialkot\n",
            "3  Kabir   32           Phd  Peshawar\n",
            "4  Jazim   23           bsc       Lhr\n",
            "\n",
            "DataFrame df1:\n",
            "    Name Qualification\n",
            "0  Sonia           Msc\n",
            "1  Bilal            MA\n",
            "2  Hifza           MCA\n",
            "3  Kabir           Phd\n",
            "4  Jazim           bsc\n",
            "\n",
            "Updated DataFrame AICP_DF with 'Height' column:\n",
            "    Name  Age Qualification   Address  Height\n",
            "0  Sonia   27           Msc    Lahore     5.1\n",
            "1  Bilal   24            MA   Karachi     6.2\n",
            "2  Hifza   22           MCA   Sialkot     5.1\n",
            "3  Kabir   32           Phd  Peshawar     5.2\n",
            "4  Jazim   23           bsc       Lhr     5.1\n",
            "\n",
            "DataFrame AICP_DF with 'Name' as index:\n",
            "       Age Qualification   Address  Height\n",
            "Name                                      \n",
            "Sonia   27           Msc    Lahore     5.1\n",
            "Bilal   24            MA   Karachi     6.2\n",
            "Hifza   22           MCA   Sialkot     5.1\n",
            "Kabir   32           Phd  Peshawar     5.2\n",
            "Jazim   23           bsc       Lhr     5.1\n",
            "\n",
            "Row with index 'Hifza':\n",
            "Age                   22\n",
            "Qualification        MCA\n",
            "Address          Sialkot\n",
            "Height               5.1\n",
            "Name: Hifza, dtype: object\n",
            "\n",
            "Row with index 3:\n",
            "Age                   22\n",
            "Qualification        MCA\n",
            "Address          Sialkot\n",
            "Height               5.1\n",
            "Name: Hifza, dtype: object\n",
            "\n",
            "DataFrame AICP_DF after dropping row with index 'Bilal':\n",
            "       Age Qualification   Address  Height\n",
            "Name                                      \n",
            "Sonia   27           Msc    Lahore     5.1\n",
            "Hifza   22           MCA   Sialkot     5.1\n",
            "Kabir   32           Phd  Peshawar     5.2\n",
            "Jazim   23           bsc       Lhr     5.1\n"
          ]
        }
      ]
    }
  ],
  "metadata": {
    "colab": {
      "provenance": [],
      "authorship_tag": "ABX9TyM4l91S8xBzEuT0U+inj9DN",
      "include_colab_link": true
    },
    "kernelspec": {
      "display_name": "Python 3",
      "name": "python3"
    },
    "language_info": {
      "name": "python"
    }
  },
  "nbformat": 4,
  "nbformat_minor": 0
}
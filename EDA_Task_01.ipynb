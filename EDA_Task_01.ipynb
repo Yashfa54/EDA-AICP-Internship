{
  "nbformat": 4,
  "nbformat_minor": 0,
  "metadata": {
    "colab": {
      "provenance": [],
      "authorship_tag": "ABX9TyNIR4mLOv9/1cT+rVZXlW1F",
      "include_colab_link": true
    },
    "kernelspec": {
      "name": "python3",
      "display_name": "Python 3"
    },
    "language_info": {
      "name": "python"
    }
  },
  "cells": [
    {
      "cell_type": "markdown",
      "metadata": {
        "id": "view-in-github",
        "colab_type": "text"
      },
      "source": [
        "<a href=\"https://colab.research.google.com/github/Yashfa54/EDA-AICP-Internship/blob/main/EDA_Task_01.ipynb\" target=\"_parent\"><img src=\"https://colab.research.google.com/assets/colab-badge.svg\" alt=\"Open In Colab\"/></a>"
      ]
    },
    {
      "cell_type": "markdown",
      "source": [
        "**Write a NumPy program to create an array of all even integers from 30 to 70.**"
      ],
      "metadata": {
        "id": "k0DsZuinpdFK"
      }
    },
    {
      "cell_type": "code",
      "execution_count": null,
      "metadata": {
        "id": "kHJ9bp2uo9m-",
        "colab": {
          "base_uri": "https://localhost:8080/"
        },
        "outputId": "bcdf9ed0-5e2c-4113-8a42-01134150fbee"
      },
      "outputs": [
        {
          "output_type": "stream",
          "name": "stdout",
          "text": [
            "Array of even integers from 30 to 70: [30 32 34 36 38 40 42 44 46 48 50 52 54 56 58 60 62 64 66 68 70]\n"
          ]
        }
      ],
      "source": [
        "import numpy as np\n",
        "\n",
        "even_array = np.arange(30, 71, 2)\n",
        "print(\"Array of even integers from 30 to 70:\", even_array)\n"
      ]
    },
    {
      "cell_type": "markdown",
      "source": [
        "**Write a NumPy program to generate an array of 15 random numbers from a standard normal distribution.**"
      ],
      "metadata": {
        "id": "iqRVGSkNproH"
      }
    },
    {
      "cell_type": "code",
      "source": [
        "import numpy as np\n",
        "\n",
        "random_array = np.random.randn(15)\n",
        "print(\"Random Array: \", random_array)\n",
        "print(\"Array of 15 random numbers from a standard normal distribution:\", random_array)"
      ],
      "metadata": {
        "colab": {
          "base_uri": "https://localhost:8080/"
        },
        "id": "4PYwwAPKpddm",
        "outputId": "bb2fcd50-b322-4f7f-cf8a-dd8a8a2e3dee"
      },
      "execution_count": null,
      "outputs": [
        {
          "output_type": "stream",
          "name": "stdout",
          "text": [
            "Random Array:  [ 1.38050972  0.51240531  1.08480218  1.5086104   0.25575136 -0.99796395\n",
            " -0.30615799 -0.67788308 -0.18148752 -0.90124981 -0.51946131  0.37004083\n",
            "  1.00260268  0.5037085   0.01447303]\n",
            "Array of 15 random numbers from a standard normal distribution: [ 1.38050972  0.51240531  1.08480218  1.5086104   0.25575136 -0.99796395\n",
            " -0.30615799 -0.67788308 -0.18148752 -0.90124981 -0.51946131  0.37004083\n",
            "  1.00260268  0.5037085   0.01447303]\n"
          ]
        }
      ]
    },
    {
      "cell_type": "markdown",
      "source": [
        "**How to compute the cross-product of two matrices in NumPy?**"
      ],
      "metadata": {
        "id": "aCeNTb46qYPC"
      }
    },
    {
      "cell_type": "code",
      "source": [
        "import numpy as np\n",
        "\n",
        "# Define matrices\n",
        "A = np.array([1, 2, 3])\n",
        "B = np.array([4, 5, 6])\n",
        "\n",
        "# Compute cross-product\n",
        "cross_product = np.cross(A, B)\n",
        "\n",
        "print(\"Cross-product of A and B:\", cross_product)"
      ],
      "metadata": {
        "colab": {
          "base_uri": "https://localhost:8080/"
        },
        "id": "wMtVKixbqPo4",
        "outputId": "4c5e4af3-2a5a-488e-9477-8487c7f0537f"
      },
      "execution_count": null,
      "outputs": [
        {
          "output_type": "stream",
          "name": "stdout",
          "text": [
            "Cross-product of A and B: [-3  6 -3]\n"
          ]
        }
      ]
    },
    {
      "cell_type": "markdown",
      "source": [
        "**How to compute the determinant of an array using NumPy?**"
      ],
      "metadata": {
        "id": "9NnMkqgTqgn_"
      }
    },
    {
      "cell_type": "code",
      "source": [
        "import numpy as np\n",
        "\n",
        "# Assuming you have an array 'arr'\n",
        "n = 4\n",
        "random_array = np.random.rand(n,n)\n",
        "\n",
        "print(\"Random Array: \", random_array)\n",
        "determinant = np.linalg.det(random_array)\n",
        "print(\"Determinant of the array:\", determinant)"
      ],
      "metadata": {
        "colab": {
          "base_uri": "https://localhost:8080/"
        },
        "id": "iamOXXDgqhyu",
        "outputId": "ef97fce3-8a8a-4038-ee5d-4fa452c4b443"
      },
      "execution_count": null,
      "outputs": [
        {
          "output_type": "stream",
          "name": "stdout",
          "text": [
            "Random Array:  [[0.26636009 0.1554965  0.67088117 0.36791014]\n",
            " [0.83664556 0.67996487 0.31046051 0.50152658]\n",
            " [0.65705683 0.76275532 0.97135526 0.43463876]\n",
            " [0.401677   0.80630925 0.99880482 0.14330753]]\n",
            "Determinant of the array: 0.0015387668003786525\n"
          ]
        }
      ]
    },
    {
      "cell_type": "markdown",
      "source": [
        "**How to create a 3x3x3 array with random values using NumPy?**"
      ],
      "metadata": {
        "id": "p9CJrWqEq6Ab"
      }
    },
    {
      "cell_type": "code",
      "source": [
        "import numpy as np\n",
        "\n",
        "random_3d_array = np.random.rand(3, 3, 3)\n",
        "print(\"Considered Array: \", random_3d_array)\n",
        "print(\"3x3x3 array with random values:\", random_3d_array)\n"
      ],
      "metadata": {
        "colab": {
          "base_uri": "https://localhost:8080/"
        },
        "id": "IKx3bmnqq6hR",
        "outputId": "3be7e325-383a-441d-dcd6-32a72090377f"
      },
      "execution_count": null,
      "outputs": [
        {
          "output_type": "stream",
          "name": "stdout",
          "text": [
            "Considered Array:  [[[0.02799794 0.53861436 0.87582279]\n",
            "  [0.53195925 0.55552437 0.50636492]\n",
            "  [0.96031953 0.05196552 0.98997246]]\n",
            "\n",
            " [[0.76042942 0.52411608 0.82133632]\n",
            "  [0.86218081 0.67217894 0.8893658 ]\n",
            "  [0.4302749  0.85371394 0.11542669]]\n",
            "\n",
            " [[0.63010555 0.51276257 0.23585922]\n",
            "  [0.68318603 0.80457456 0.48168491]\n",
            "  [0.63722548 0.09773716 0.34118165]]]\n",
            "3x3x3 array with random values: [[[0.02799794 0.53861436 0.87582279]\n",
            "  [0.53195925 0.55552437 0.50636492]\n",
            "  [0.96031953 0.05196552 0.98997246]]\n",
            "\n",
            " [[0.76042942 0.52411608 0.82133632]\n",
            "  [0.86218081 0.67217894 0.8893658 ]\n",
            "  [0.4302749  0.85371394 0.11542669]]\n",
            "\n",
            " [[0.63010555 0.51276257 0.23585922]\n",
            "  [0.68318603 0.80457456 0.48168491]\n",
            "  [0.63722548 0.09773716 0.34118165]]]\n"
          ]
        }
      ]
    },
    {
      "cell_type": "markdown",
      "source": [
        "**How to create a 5x5 array with random values and find the minimum and maximum values using\n",
        "NumPy?**"
      ],
      "metadata": {
        "id": "lTbRBT4Iq7Cv"
      }
    },
    {
      "cell_type": "code",
      "source": [
        "import numpy as np\n",
        "\n",
        "random_5x5_array = np.random.rand(5, 5)\n",
        "print(\"5x5 array with random values:\")\n",
        "print(random_5x5_array)\n",
        "minimum_value = np.min(random_5x5_array)\n",
        "maximum_value = np.max(random_5x5_array)\n",
        "print(\"Minimum value:\", minimum_value)\n",
        "print(\"Maximum value:\", maximum_value)\n"
      ],
      "metadata": {
        "colab": {
          "base_uri": "https://localhost:8080/"
        },
        "id": "mgxmE6qCq7ah",
        "outputId": "d2ec8500-0062-443e-d32a-3406bfec36cc"
      },
      "execution_count": null,
      "outputs": [
        {
          "output_type": "stream",
          "name": "stdout",
          "text": [
            "5x5 array with random values:\n",
            "[[0.65777359 0.08743431 0.51874767 0.65160419 0.48905318]\n",
            " [0.04195614 0.43064272 0.2519988  0.21067709 0.38298988]\n",
            " [0.18580849 0.36561305 0.87456675 0.28300014 0.14224533]\n",
            " [0.88532415 0.14336496 0.93242338 0.657799   0.9664992 ]\n",
            " [0.78169291 0.29857466 0.91735614 0.61914814 0.62544366]]\n",
            "Minimum value: 0.041956140563772504\n",
            "Maximum value: 0.9664991978017162\n"
          ]
        }
      ]
    },
    {
      "cell_type": "markdown",
      "source": [
        "**How to compute the mean, standard deviation, and variance of a given array along the second axis in\n",
        "NumPy?**"
      ],
      "metadata": {
        "id": "sXQnUQjPq--J"
      }
    },
    {
      "cell_type": "code",
      "source": [
        "import numpy as np\n",
        "\n",
        "# Assuming you have an array 'arr'\n",
        "random_array = np.random.rand(3,3)\n",
        "\n",
        "# Compute mean, standard deviation, and variance along the second axis\n",
        "mean = np.mean(random_array, axis=1)\n",
        "std_deviation = np.std(random_array, axis=1)\n",
        "variance = np.var(random_array, axis=1)\n",
        "\n",
        "print(\"Mean along the second axis:\", mean)\n",
        "print(\"Standard deviation along the second axis:\", std_deviation)\n",
        "print(\"Variance along the second axis:\", variance)\n"
      ],
      "metadata": {
        "colab": {
          "base_uri": "https://localhost:8080/"
        },
        "id": "EjJy10Xqq_a1",
        "outputId": "d292518a-5266-48cc-b716-cd2f3f5bc555"
      },
      "execution_count": null,
      "outputs": [
        {
          "output_type": "stream",
          "name": "stdout",
          "text": [
            "Mean along the second axis: [0.56409702 0.59891369 0.68991022]\n",
            "Standard deviation along the second axis: [0.30023506 0.36655078 0.24981637]\n",
            "Variance along the second axis: [0.09014109 0.13435947 0.06240822]\n"
          ]
        }
      ]
    }
  ]
}